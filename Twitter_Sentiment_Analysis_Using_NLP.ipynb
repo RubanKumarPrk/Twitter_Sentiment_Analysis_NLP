{
  "nbformat": 4,
  "nbformat_minor": 0,
  "metadata": {
    "colab": {
      "provenance": [],
      "collapsed_sections": []
    },
    "kernelspec": {
      "name": "python3",
      "display_name": "Python 3"
    },
    "language_info": {
      "name": "python"
    }
  },
  "cells": [
    {
      "cell_type": "markdown",
      "source": [
        "#Twitter Sentiment Analysis using NLP Techniques"
      ],
      "metadata": {
        "id": "JJJ25ijyTvvV"
      }
    },
    {
      "cell_type": "code",
      "source": [
        "import numpy as np\n",
        "import pandas as pd\n",
        "import nltk\n",
        "#we can download package based on our preference are we can dwnld all \n",
        "nltk.download('all')"
      ],
      "metadata": {
        "id": "RX1pztCOUN4s"
      },
      "execution_count": null,
      "outputs": []
    },
    {
      "cell_type": "code",
      "source": [
        "import matplotlib.pyplot as plt\n",
        "import seaborn as sns\n",
        "from nltk.corpus import stopwords\n",
        "import string\n",
        "import json\n",
        "from nltk.sentiment.util import *\n",
        "from textblob import TextBlob"
      ],
      "metadata": {
        "id": "eEZOd4OBqwyA"
      },
      "execution_count": null,
      "outputs": []
    },
    {
      "cell_type": "markdown",
      "source": [
        "#Importing Data\n",
        "\n",
        "- importing a Json data into to check the raw data"
      ],
      "metadata": {
        "id": "gCw3L9ZBrchl"
      }
    },
    {
      "cell_type": "code",
      "execution_count": null,
      "metadata": {
        "id": "aDUOZZuoSE2-"
      },
      "outputs": [],
      "source": [
        "with open('tweets.json') as jfile:\n",
        "  d = json.load(jfile)"
      ]
    },
    {
      "cell_type": "code",
      "source": [
        "d"
      ],
      "metadata": {
        "id": "uj1XJmSyUEaG"
      },
      "execution_count": null,
      "outputs": []
    },
    {
      "cell_type": "markdown",
      "source": [
        "#Converting JSON to DataFrame\n",
        "\n",
        "- so we can easily read and understand the data"
      ],
      "metadata": {
        "id": "w2rycV3_rlxM"
      }
    },
    {
      "cell_type": "code",
      "source": [
        "data = pd.DataFrame(d).T"
      ],
      "metadata": {
        "id": "jElagv5OUEn-"
      },
      "execution_count": null,
      "outputs": []
    },
    {
      "cell_type": "code",
      "source": [
        "data.head()"
      ],
      "metadata": {
        "colab": {
          "base_uri": "https://localhost:8080/",
          "height": 206
        },
        "id": "cdkuZY2cUEp5",
        "outputId": "f70db675-a3c1-45d0-fe78-2df5f6148414"
      },
      "execution_count": null,
      "outputs": [
        {
          "output_type": "execute_result",
          "data": {
            "text/plain": [
              "                           tweet_author  \\\n",
              "1374140386071961602  Hematopoiesis News   \n",
              "1374032432173842437    Michael Wang, MD   \n",
              "1373902876553048065         1stOncology   \n",
              "1373656782367813635           Toby Eyre   \n",
              "1372941634334232586        Lymphoma Hub   \n",
              "\n",
              "                                                            tweet_text  \n",
              "1374140386071961602  ⚕️ Scientists conducted a Phase II study of ac...  \n",
              "1374032432173842437  This phase 2 Acalabrutinib-Venetoclax (AV) tri...  \n",
              "1373902876553048065  #NICE backs #AstraZenecas #Calquence for #CLL ...  \n",
              "1373656782367813635  #acalabrutinib is a valuable option in pts int...  \n",
              "1372941634334232586  NICE has recommended the use of acalabrutinib ...  "
            ],
            "text/html": [
              "\n",
              "  <div id=\"df-3065d406-661a-48aa-8c96-33bfc037ea26\">\n",
              "    <div class=\"colab-df-container\">\n",
              "      <div>\n",
              "<style scoped>\n",
              "    .dataframe tbody tr th:only-of-type {\n",
              "        vertical-align: middle;\n",
              "    }\n",
              "\n",
              "    .dataframe tbody tr th {\n",
              "        vertical-align: top;\n",
              "    }\n",
              "\n",
              "    .dataframe thead th {\n",
              "        text-align: right;\n",
              "    }\n",
              "</style>\n",
              "<table border=\"1\" class=\"dataframe\">\n",
              "  <thead>\n",
              "    <tr style=\"text-align: right;\">\n",
              "      <th></th>\n",
              "      <th>tweet_author</th>\n",
              "      <th>tweet_text</th>\n",
              "    </tr>\n",
              "  </thead>\n",
              "  <tbody>\n",
              "    <tr>\n",
              "      <th>1374140386071961602</th>\n",
              "      <td>Hematopoiesis News</td>\n",
              "      <td>⚕️ Scientists conducted a Phase II study of ac...</td>\n",
              "    </tr>\n",
              "    <tr>\n",
              "      <th>1374032432173842437</th>\n",
              "      <td>Michael Wang, MD</td>\n",
              "      <td>This phase 2 Acalabrutinib-Venetoclax (AV) tri...</td>\n",
              "    </tr>\n",
              "    <tr>\n",
              "      <th>1373902876553048065</th>\n",
              "      <td>1stOncology</td>\n",
              "      <td>#NICE backs #AstraZenecas #Calquence for #CLL ...</td>\n",
              "    </tr>\n",
              "    <tr>\n",
              "      <th>1373656782367813635</th>\n",
              "      <td>Toby Eyre</td>\n",
              "      <td>#acalabrutinib is a valuable option in pts int...</td>\n",
              "    </tr>\n",
              "    <tr>\n",
              "      <th>1372941634334232586</th>\n",
              "      <td>Lymphoma Hub</td>\n",
              "      <td>NICE has recommended the use of acalabrutinib ...</td>\n",
              "    </tr>\n",
              "  </tbody>\n",
              "</table>\n",
              "</div>\n",
              "      <button class=\"colab-df-convert\" onclick=\"convertToInteractive('df-3065d406-661a-48aa-8c96-33bfc037ea26')\"\n",
              "              title=\"Convert this dataframe to an interactive table.\"\n",
              "              style=\"display:none;\">\n",
              "        \n",
              "  <svg xmlns=\"http://www.w3.org/2000/svg\" height=\"24px\"viewBox=\"0 0 24 24\"\n",
              "       width=\"24px\">\n",
              "    <path d=\"M0 0h24v24H0V0z\" fill=\"none\"/>\n",
              "    <path d=\"M18.56 5.44l.94 2.06.94-2.06 2.06-.94-2.06-.94-.94-2.06-.94 2.06-2.06.94zm-11 1L8.5 8.5l.94-2.06 2.06-.94-2.06-.94L8.5 2.5l-.94 2.06-2.06.94zm10 10l.94 2.06.94-2.06 2.06-.94-2.06-.94-.94-2.06-.94 2.06-2.06.94z\"/><path d=\"M17.41 7.96l-1.37-1.37c-.4-.4-.92-.59-1.43-.59-.52 0-1.04.2-1.43.59L10.3 9.45l-7.72 7.72c-.78.78-.78 2.05 0 2.83L4 21.41c.39.39.9.59 1.41.59.51 0 1.02-.2 1.41-.59l7.78-7.78 2.81-2.81c.8-.78.8-2.07 0-2.86zM5.41 20L4 18.59l7.72-7.72 1.47 1.35L5.41 20z\"/>\n",
              "  </svg>\n",
              "      </button>\n",
              "      \n",
              "  <style>\n",
              "    .colab-df-container {\n",
              "      display:flex;\n",
              "      flex-wrap:wrap;\n",
              "      gap: 12px;\n",
              "    }\n",
              "\n",
              "    .colab-df-convert {\n",
              "      background-color: #E8F0FE;\n",
              "      border: none;\n",
              "      border-radius: 50%;\n",
              "      cursor: pointer;\n",
              "      display: none;\n",
              "      fill: #1967D2;\n",
              "      height: 32px;\n",
              "      padding: 0 0 0 0;\n",
              "      width: 32px;\n",
              "    }\n",
              "\n",
              "    .colab-df-convert:hover {\n",
              "      background-color: #E2EBFA;\n",
              "      box-shadow: 0px 1px 2px rgba(60, 64, 67, 0.3), 0px 1px 3px 1px rgba(60, 64, 67, 0.15);\n",
              "      fill: #174EA6;\n",
              "    }\n",
              "\n",
              "    [theme=dark] .colab-df-convert {\n",
              "      background-color: #3B4455;\n",
              "      fill: #D2E3FC;\n",
              "    }\n",
              "\n",
              "    [theme=dark] .colab-df-convert:hover {\n",
              "      background-color: #434B5C;\n",
              "      box-shadow: 0px 1px 3px 1px rgba(0, 0, 0, 0.15);\n",
              "      filter: drop-shadow(0px 1px 2px rgba(0, 0, 0, 0.3));\n",
              "      fill: #FFFFFF;\n",
              "    }\n",
              "  </style>\n",
              "\n",
              "      <script>\n",
              "        const buttonEl =\n",
              "          document.querySelector('#df-3065d406-661a-48aa-8c96-33bfc037ea26 button.colab-df-convert');\n",
              "        buttonEl.style.display =\n",
              "          google.colab.kernel.accessAllowed ? 'block' : 'none';\n",
              "\n",
              "        async function convertToInteractive(key) {\n",
              "          const element = document.querySelector('#df-3065d406-661a-48aa-8c96-33bfc037ea26');\n",
              "          const dataTable =\n",
              "            await google.colab.kernel.invokeFunction('convertToInteractive',\n",
              "                                                     [key], {});\n",
              "          if (!dataTable) return;\n",
              "\n",
              "          const docLinkHtml = 'Like what you see? Visit the ' +\n",
              "            '<a target=\"_blank\" href=https://colab.research.google.com/notebooks/data_table.ipynb>data table notebook</a>'\n",
              "            + ' to learn more about interactive tables.';\n",
              "          element.innerHTML = '';\n",
              "          dataTable['output_type'] = 'display_data';\n",
              "          await google.colab.output.renderOutput(dataTable, element);\n",
              "          const docLink = document.createElement('div');\n",
              "          docLink.innerHTML = docLinkHtml;\n",
              "          element.appendChild(docLink);\n",
              "        }\n",
              "      </script>\n",
              "    </div>\n",
              "  </div>\n",
              "  "
            ]
          },
          "metadata": {},
          "execution_count": 8
        }
      ]
    },
    {
      "cell_type": "markdown",
      "source": [
        "#Exploration of Data"
      ],
      "metadata": {
        "id": "Df_vNEKbuF51"
      }
    },
    {
      "cell_type": "code",
      "source": [
        "data.shape"
      ],
      "metadata": {
        "colab": {
          "base_uri": "https://localhost:8080/"
        },
        "id": "m_4fi6RiUEud",
        "outputId": "cca1780b-e58c-4a46-ed5b-92b7f8d71aeb"
      },
      "execution_count": null,
      "outputs": [
        {
          "output_type": "execute_result",
          "data": {
            "text/plain": [
              "(43347, 2)"
            ]
          },
          "metadata": {},
          "execution_count": 9
        }
      ]
    },
    {
      "cell_type": "code",
      "source": [
        "data.dtypes"
      ],
      "metadata": {
        "colab": {
          "base_uri": "https://localhost:8080/"
        },
        "id": "Qu20v8E1UEw7",
        "outputId": "92b3886f-ecc1-4b02-f019-396c1343e90e"
      },
      "execution_count": null,
      "outputs": [
        {
          "output_type": "execute_result",
          "data": {
            "text/plain": [
              "tweet_author    object\n",
              "tweet_text      object\n",
              "dtype: object"
            ]
          },
          "metadata": {},
          "execution_count": 10
        }
      ]
    },
    {
      "cell_type": "code",
      "source": [
        "data.isnull().sum()"
      ],
      "metadata": {
        "colab": {
          "base_uri": "https://localhost:8080/"
        },
        "id": "j2iXRujsUE0W",
        "outputId": "c0dc21b2-ac1a-4073-9655-f252f9cc5cfb"
      },
      "execution_count": null,
      "outputs": [
        {
          "output_type": "execute_result",
          "data": {
            "text/plain": [
              "tweet_author    0\n",
              "tweet_text      0\n",
              "dtype: int64"
            ]
          },
          "metadata": {},
          "execution_count": 11
        }
      ]
    },
    {
      "cell_type": "code",
      "source": [
        "data.notnull().sum()"
      ],
      "metadata": {
        "colab": {
          "base_uri": "https://localhost:8080/"
        },
        "id": "3mbuth_LtJic",
        "outputId": "60ec61d6-da5f-4739-ed0d-88a011a3a331"
      },
      "execution_count": null,
      "outputs": [
        {
          "output_type": "execute_result",
          "data": {
            "text/plain": [
              "tweet_author    43347\n",
              "tweet_text      43347\n",
              "dtype: int64"
            ]
          },
          "metadata": {},
          "execution_count": 12
        }
      ]
    },
    {
      "cell_type": "code",
      "source": [
        "cols = data.columns\n",
        "\n",
        "for col in cols :\n",
        "  print(col,data[col].nunique())"
      ],
      "metadata": {
        "colab": {
          "base_uri": "https://localhost:8080/"
        },
        "id": "wzXsvorvtPs0",
        "outputId": "afa70412-0f20-4105-c750-6ac291ae574a"
      },
      "execution_count": null,
      "outputs": [
        {
          "output_type": "stream",
          "name": "stdout",
          "text": [
            "tweet_author 9292\n",
            "tweet_text 41776\n"
          ]
        }
      ]
    },
    {
      "cell_type": "code",
      "source": [
        "for col in cols :\n",
        "  print(col,data[col].value_counts())"
      ],
      "metadata": {
        "colab": {
          "base_uri": "https://localhost:8080/"
        },
        "id": "M6lIR2LrtvMk",
        "outputId": "c52394cb-bd0c-4c56-edd1-d228da231357"
      },
      "execution_count": null,
      "outputs": [
        {
          "output_type": "stream",
          "name": "stdout",
          "text": [
            "tweet_author Patient Power            1603\n",
            "Paperbirds_Hematology    1510\n",
            "VJHemOnc                 1079\n",
            "Oncology Tube             714\n",
            "Medivizor                 663\n",
            "                         ... \n",
            "Streetwise Reports          1\n",
            "Onco.com                    1\n",
            "Investor's Champion         1\n",
            "21                          1\n",
            "𝓒𝓻𝓲𝔃𝔃𝔂 𝓟𝓮𝓻𝓻𝔂🌹               1\n",
            "Name: tweet_author, Length: 9292, dtype: int64\n",
            "tweet_text chronic lymphocytic leukemia慢性リンパ性白血病                                                                                                                                                                            72\n",
            "New #CLL research study now available. There is no placebo. See if you qualify here: https://t.co/oBIuJz9nKl                                                                                                     69\n",
            "Looking for new solutions for #CLL? @PatientPower explores CLL treatment w/ expert Dr. Jeff Sharman. Check it out! https://t.co/yG2eS5NxLk                                                                       65\n",
            "Chronic Lymphocytic Leukemia (CLL)ではHypogammaglobulinemiaによる免疫異常が見られる。特に自己免疫性溶血性貧血と細胞性免疫の低下による腫瘍の頻発が重要。                                                                                                          58\n",
            "Do you have relapsed #CLL? A new trial is actively enrolling now. No placebo. Learn more. https://t.co/AEFTGBucKM                                                                                                42\n",
            "                                                                                                                                                                                                                 ..\n",
            "Today we announced #clinical data in relapsed/refractory peripheral T-cell #lymphoma, #CLL, #SLL, and more, being presented at #ASH19. Read here: https://t.co/9W8blc1xce #iNHL #PTCL https://t.co/sGp85IDxmk     1\n",
            "The #CLL question of the hour. #ASH2019 https://t.co/JrR573aePC                                                                                                                                                   1\n",
            "Extended Follow-up Phase 3 Data Underscore Sustained Efficacy and Safety of IMBRUVICA® (ibrutinib) in the Treatment https://t.co/xnEB4YNe0R                                                                       1\n",
            "IMBRUVICA® (ibrutinib) Plus VENCLEXTA®/VENCLYXTO® (venetoclax) Combination Data Show High Rates of Disease Cleara https://t.co/0wnqtEmWUV                                                                         1\n",
            "#Hematología MUTATIONS IN TLR/MYD88 PATHWAY IDENTIFY A SUBSET OF YOUNG CHRONIC LYMPHOCYTIC LEUKEMIA PATIENTS WITH… http://t.co/YzvK2n9UsZ                                                                         1\n",
            "Name: tweet_text, Length: 41776, dtype: int64\n"
          ]
        }
      ]
    },
    {
      "cell_type": "code",
      "source": [
        "for col in cols :\n",
        "  print(col,data[col].unique())"
      ],
      "metadata": {
        "colab": {
          "base_uri": "https://localhost:8080/"
        },
        "id": "fLug5H-kuAB7",
        "outputId": "8bd740d0-fcd2-4fa6-a00a-2e82a17629b4"
      },
      "execution_count": null,
      "outputs": [
        {
          "output_type": "stream",
          "name": "stdout",
          "text": [
            "tweet_author ['Hematopoiesis News' 'Michael Wang, MD' '1stOncology' ...\n",
            " 'Joy is a Lifestyle' 'Micheál 🇮🇪' '𝓒𝓻𝓲𝔃𝔃𝔂 𝓟𝓮𝓻𝓻𝔂🌹']\n",
            "tweet_text ['⚕️ Scientists conducted a Phase II study of acalabrutinib in patients with relapsed/refractory #CLL who were ibrutinib-intolerant, and found an overall response rate of 73%. \\nhttps://t.co/eJ6m4QpC5P https://t.co/kuZz6ZO47r'\n",
            " 'This phase 2 Acalabrutinib-Venetoclax (AV) trial that is still in recruitment phase will study how well venetoclax and acalabrutinib works in MCL patients who either relapsed or non-respondent to the initial therapy.\\n\\nhttps://t.co/gg0G9At23N'\n",
            " '#NICE backs #AstraZenecas #Calquence for #CLL https://t.co/Vb5lPDoGrA'\n",
            " ...\n",
            " 'Zusatznutzen von #Idelalisib ist weder für #CLL noch für refraktäres follikuläres Lymphom belegt https://t.co/WRtTkZ0PiY'\n",
            " '#Hematología PTK2 EXPRESSION AND IMMUNOCHEMOTHERAPY OUTCOME IN CHRONIC LYMPHOCYTIC LEUKEMIA. (2014) http://t.co/rWZIOkjnka'\n",
            " '#Hematología MUTATIONS IN TLR/MYD88 PATHWAY IDENTIFY A SUBSET OF YOUNG CHRONIC LYMPHOCYTIC LEUKEMIA PATIENTS WITH… http://t.co/YzvK2n9UsZ']\n"
          ]
        }
      ]
    },
    {
      "cell_type": "markdown",
      "source": [
        "#Cleaning Data\n",
        "- This will remove the urls,upper,lower case,special characters,hastags,digits,html tags and numbers.\n",
        "- Then based on Punctuation like (,),(.),(!)..etc we are sperating the data and also removing that punctuation\n",
        "- Then we are Performing the tokenization method to split each and every word so, in further analysis we can use that use in for further analysis."
      ],
      "metadata": {
        "id": "IGb3c3E-urBF"
      }
    },
    {
      "cell_type": "code",
      "source": [
        "stopword = stopwords.words('english')\n",
        "\n",
        "def clean_data(data):\n",
        "  data = data.lower()\n",
        "  data = re.sub(r'[^(a-zA-Z)\\s]','', data)\n",
        "     #     remove urls\n",
        "  data = re.sub(r'http\\S+', \" \", data)\n",
        " #     remove mentions\n",
        "  data = re.sub(r'@\\w+',' ',data)\n",
        " #     remove hastags\n",
        "  data = re.sub(r'#\\w+', ' ',data)\n",
        "#     remove digits\n",
        "  data = re.sub(r'\\d+()', ' ', data)\n",
        "#     remove html tags and umber\n",
        "  data = re.sub('r<.*?>',' ', data)\n",
        " #     remove stop words \n",
        "  data = data.split()\n",
        "  data = \" \".join([word for word in data if not word in stopword])\n",
        "  return data\n",
        "data['tweet_text']=data['tweet_text'].apply(lambda x:clean_data(x))\n",
        "def remove_punct(text):\n",
        "    text  = \"\".join([char for char in text if char not in string.punctuation])\n",
        "    text = re.sub('[0-9]+', '', text)\n",
        "    return text\n",
        "\n",
        "data['tweet_text']= data['tweet_text'].apply(lambda x: remove_punct(x))\n",
        "#Tokenization of the text data\n",
        "def tokenization(text):\n",
        "    text = re.split('\\W+', text)\n",
        "    return text\n",
        "data['tweet_text'] = data['tweet_text'].apply(lambda x: tokenization(x.lower()))"
      ],
      "metadata": {
        "id": "E13ljQ80uXEg"
      },
      "execution_count": null,
      "outputs": []
    },
    {
      "cell_type": "code",
      "source": [
        "df = data['tweet_text']"
      ],
      "metadata": {
        "id": "nYd-p1tYuXSt"
      },
      "execution_count": null,
      "outputs": []
    },
    {
      "cell_type": "code",
      "source": [
        "df"
      ],
      "metadata": {
        "colab": {
          "base_uri": "https://localhost:8080/"
        },
        "id": "0khNTgfIxnhR",
        "outputId": "21769262-8f4b-4358-870e-dfa2e1b1e8bd"
      },
      "execution_count": null,
      "outputs": [
        {
          "output_type": "execute_result",
          "data": {
            "text/plain": [
              "1374140386071961602    [scientists, conducted, phase, ii, study, acal...\n",
              "1374032432173842437    [phase, acalabrutinibvenetoclax, av, trial, st...\n",
              "1373902876553048065          [nice, backs, astrazenecas, calquence, cll]\n",
              "1373656782367813635    [acalabrutinib, valuable, option, pts, intoler...\n",
              "1372941634334232586    [nice, recommended, use, acalabrutinib, patien...\n",
              "                                             ...                        \n",
              "551103473643945985                [hanging, friends, ff, cll, happiness]\n",
              "551102786675290112                [hanging, friends, ff, cll, happiness]\n",
              "550969541186953217     [zusatznutzen, von, idelalisib, ist, weder, fr...\n",
              "550941480525635584     [hematologa, ptk, expression, immunochemothera...\n",
              "550579446537678849     [hematologa, mutations, tlrmyd, pathway, ident...\n",
              "Name: tweet_text, Length: 43347, dtype: object"
            ]
          },
          "metadata": {},
          "execution_count": 18
        }
      ]
    },
    {
      "cell_type": "markdown",
      "source": [
        "#Stemming and Lemitization\n",
        "\n",
        "#Stemming\n",
        "- when we convert textual data into features then we use stemming\n",
        "- once we have features only we can create a model for textual data using NLP\n",
        "- it is mostly used to remove suffic word from text which from same meaning"
      ],
      "metadata": {
        "id": "mtIWzgpjzRie"
      }
    },
    {
      "cell_type": "code",
      "source": [
        "porter = nltk.PorterStemmer()\n",
        "def stemming(text):\n",
        "    text = [porter.stem(word) for word in text]\n",
        "    return text\n",
        "df = df.apply(lambda x: stemming(x))"
      ],
      "metadata": {
        "id": "EULs87IOxnkP"
      },
      "execution_count": null,
      "outputs": []
    },
    {
      "cell_type": "code",
      "source": [
        "lem = nltk.WordNetLemmatizer()\n",
        "def lemmatizer(text):\n",
        "    text = [lem.lemmatize(word) for word in text]\n",
        "    return text\n",
        "df = df.apply(lambda x: lemmatizer(x))"
      ],
      "metadata": {
        "id": "wKYA1x4q1R0g"
      },
      "execution_count": null,
      "outputs": []
    },
    {
      "cell_type": "code",
      "source": [
        "df"
      ],
      "metadata": {
        "colab": {
          "base_uri": "https://localhost:8080/"
        },
        "id": "rCuMR6n-1gMG",
        "outputId": "d2edf092-ad9a-436d-a58d-688bb87f4371"
      },
      "execution_count": null,
      "outputs": [
        {
          "output_type": "execute_result",
          "data": {
            "text/plain": [
              "1374140386071961602    [scientist, conduct, phase, ii, studi, acalabr...\n",
              "1374032432173842437    [phase, acalabrutinibvenetoclax, av, trial, st...\n",
              "1373902876553048065             [nice, back, astrazeneca, calquenc, cll]\n",
              "1373656782367813635    [acalabrutinib, valuabl, option, pt, intoler, ...\n",
              "1372941634334232586    [nice, recommend, use, acalabrutinib, patient,...\n",
              "                                             ...                        \n",
              "551103473643945985                        [hang, friend, ff, cll, happi]\n",
              "551102786675290112                        [hang, friend, ff, cll, happi]\n",
              "550969541186953217     [zusatznutzen, von, idelalisib, ist, weder, fr...\n",
              "550941480525635584     [hematologa, ptk, express, immunochemotherapi,...\n",
              "550579446537678849     [hematologa, mutat, tlrmyd, pathway, identifi,...\n",
              "Name: tweet_text, Length: 43347, dtype: object"
            ]
          },
          "metadata": {},
          "execution_count": 21
        }
      ]
    },
    {
      "cell_type": "markdown",
      "source": [
        "#Stanford NLP"
      ],
      "metadata": {
        "id": "rUnPXYwl1zBX"
      }
    },
    {
      "cell_type": "code",
      "source": [
        "from nltk.tag.stanford import StanfordNERTagger\n",
        "!wget 'https://nlp.stanford.edu/software/stanford-ner-2018-10-16.zip'\n",
        "!unzip stanford-ner-2018-10-16.zip\n",
        "\n",
        "nltk.download('punkt')\n",
        "\n",
        "st = StanfordNERTagger('/content/stanford-ner-2018-10-16/classifiers/english.all.3class.distsim.crf.ser.gz',\n",
        "                       '/content/stanford-ner-2018-10-16/stanford-ner.jar',\n",
        "                       encoding='utf-8')"
      ],
      "metadata": {
        "colab": {
          "base_uri": "https://localhost:8080/"
        },
        "id": "CqsGulOs1xXM",
        "outputId": "ff5ee691-bfbf-4497-b77d-bec1ef3e898b"
      },
      "execution_count": null,
      "outputs": [
        {
          "output_type": "stream",
          "name": "stdout",
          "text": [
            "--2022-11-11 10:26:26--  https://nlp.stanford.edu/software/stanford-ner-2018-10-16.zip\n",
            "Resolving nlp.stanford.edu (nlp.stanford.edu)... 171.64.67.140\n",
            "Connecting to nlp.stanford.edu (nlp.stanford.edu)|171.64.67.140|:443... connected.\n",
            "HTTP request sent, awaiting response... 302 FOUND\n",
            "Location: https://downloads.cs.stanford.edu/nlp/software/stanford-ner-2018-10-16.zip [following]\n",
            "--2022-11-11 10:26:26--  https://downloads.cs.stanford.edu/nlp/software/stanford-ner-2018-10-16.zip\n",
            "Resolving downloads.cs.stanford.edu (downloads.cs.stanford.edu)... 171.64.64.22\n",
            "Connecting to downloads.cs.stanford.edu (downloads.cs.stanford.edu)|171.64.64.22|:443... connected.\n",
            "HTTP request sent, awaiting response... 200 OK\n",
            "Length: 180358328 (172M) [application/zip]\n",
            "Saving to: ‘stanford-ner-2018-10-16.zip.1’\n",
            "\n",
            "stanford-ner-2018-1 100%[===================>] 172.00M  5.06MB/s    in 32s     \n",
            "\n",
            "2022-11-11 10:26:59 (5.30 MB/s) - ‘stanford-ner-2018-10-16.zip.1’ saved [180358328/180358328]\n",
            "\n",
            "Archive:  stanford-ner-2018-10-16.zip\n",
            "replace stanford-ner-2018-10-16/README.txt? [y]es, [n]o, [A]ll, [N]one, [r]ename: y\n",
            "  inflating: stanford-ner-2018-10-16/README.txt  \n",
            "replace stanford-ner-2018-10-16/ner-gui.bat? [y]es, [n]o, [A]ll, [N]one, [r]ename: y\n",
            "  inflating: stanford-ner-2018-10-16/ner-gui.bat  \n",
            "replace stanford-ner-2018-10-16/build.xml? [y]es, [n]o, [A]ll, [N]one, [r]ename: y\n",
            "  inflating: stanford-ner-2018-10-16/build.xml  \n",
            "replace stanford-ner-2018-10-16/stanford-ner.jar? [y]es, [n]o, [A]ll, [N]one, [r]ename: y\n",
            "  inflating: stanford-ner-2018-10-16/stanford-ner.jar  \n",
            "replace stanford-ner-2018-10-16/sample-conll-file.txt? [y]es, [n]o, [A]ll, [N]one, [r]ename: y\n",
            "  inflating: stanford-ner-2018-10-16/sample-conll-file.txt  \n",
            "replace stanford-ner-2018-10-16/sample.ner.txt? [y]es, [n]o, [A]ll, [N]one, [r]ename: y\n",
            "  inflating: stanford-ner-2018-10-16/sample.ner.txt  \n",
            "replace stanford-ner-2018-10-16/stanford-ner-3.9.2-sources.jar? [y]es, [n]o, [A]ll, [N]one, [r]ename: y\n",
            "  inflating: stanford-ner-2018-10-16/stanford-ner-3.9.2-sources.jar  \n",
            "replace stanford-ner-2018-10-16/lib/joda-time.jar? [y]es, [n]o, [A]ll, [N]one, [r]ename: "
          ]
        },
        {
          "output_type": "stream",
          "name": "stderr",
          "text": [
            "[nltk_data] Downloading package punkt to /root/nltk_data...\n",
            "[nltk_data]   Package punkt is already up-to-date!\n"
          ]
        }
      ]
    },
    {
      "cell_type": "code",
      "source": [
        "val = [item if isinstance(df, str) else \" \".join(item) for item in df ]\n",
        "seen = set()\n",
        "val = [x for x in val if x not in seen and not seen.add(x)]"
      ],
      "metadata": {
        "id": "agt76r1c1xjM"
      },
      "execution_count": null,
      "outputs": []
    },
    {
      "cell_type": "code",
      "source": [
        "text = st.tag(val)"
      ],
      "metadata": {
        "id": "2Mi_D9HQ2J8H"
      },
      "execution_count": null,
      "outputs": []
    },
    {
      "cell_type": "code",
      "source": [
        "entity= pd.DataFrame(text,columns=['Entity','Entity Type'])\n",
        "\n",
        "#Here We Remove Entities_type column from data we does not requierd \n",
        "\n",
        "all_entities = (entity.groupby(by=['Entity']).size().sort_values(ascending=False).reset_index().rename(columns={0 : 'Frequency'}))\n",
        "all_entities.head(10)\n"
      ],
      "metadata": {
        "colab": {
          "base_uri": "https://localhost:8080/",
          "height": 363
        },
        "id": "6MeMH-0P2W5L",
        "outputId": "7eff736b-039e-47d1-e59e-3e17f7e8edf3"
      },
      "execution_count": null,
      "outputs": [
        {
          "output_type": "execute_result",
          "data": {
            "text/plain": [
              "          Entity  Frequency\n",
              "0  acalabrutinib       1306\n",
              "1       calquenc        893\n",
              "2        patient        790\n",
              "3          covid        694\n",
              "4    astrazeneca        598\n",
              "5            cll        562\n",
              "6          trial        425\n",
              "7      lymphocyt        388\n",
              "8        chronic        351\n",
              "9       leukemia        342"
            ],
            "text/html": [
              "\n",
              "  <div id=\"df-d7fa75fb-aa5a-4f44-87c5-430c9112c016\">\n",
              "    <div class=\"colab-df-container\">\n",
              "      <div>\n",
              "<style scoped>\n",
              "    .dataframe tbody tr th:only-of-type {\n",
              "        vertical-align: middle;\n",
              "    }\n",
              "\n",
              "    .dataframe tbody tr th {\n",
              "        vertical-align: top;\n",
              "    }\n",
              "\n",
              "    .dataframe thead th {\n",
              "        text-align: right;\n",
              "    }\n",
              "</style>\n",
              "<table border=\"1\" class=\"dataframe\">\n",
              "  <thead>\n",
              "    <tr style=\"text-align: right;\">\n",
              "      <th></th>\n",
              "      <th>Entity</th>\n",
              "      <th>Frequency</th>\n",
              "    </tr>\n",
              "  </thead>\n",
              "  <tbody>\n",
              "    <tr>\n",
              "      <th>0</th>\n",
              "      <td>acalabrutinib</td>\n",
              "      <td>1306</td>\n",
              "    </tr>\n",
              "    <tr>\n",
              "      <th>1</th>\n",
              "      <td>calquenc</td>\n",
              "      <td>893</td>\n",
              "    </tr>\n",
              "    <tr>\n",
              "      <th>2</th>\n",
              "      <td>patient</td>\n",
              "      <td>790</td>\n",
              "    </tr>\n",
              "    <tr>\n",
              "      <th>3</th>\n",
              "      <td>covid</td>\n",
              "      <td>694</td>\n",
              "    </tr>\n",
              "    <tr>\n",
              "      <th>4</th>\n",
              "      <td>astrazeneca</td>\n",
              "      <td>598</td>\n",
              "    </tr>\n",
              "    <tr>\n",
              "      <th>5</th>\n",
              "      <td>cll</td>\n",
              "      <td>562</td>\n",
              "    </tr>\n",
              "    <tr>\n",
              "      <th>6</th>\n",
              "      <td>trial</td>\n",
              "      <td>425</td>\n",
              "    </tr>\n",
              "    <tr>\n",
              "      <th>7</th>\n",
              "      <td>lymphocyt</td>\n",
              "      <td>388</td>\n",
              "    </tr>\n",
              "    <tr>\n",
              "      <th>8</th>\n",
              "      <td>chronic</td>\n",
              "      <td>351</td>\n",
              "    </tr>\n",
              "    <tr>\n",
              "      <th>9</th>\n",
              "      <td>leukemia</td>\n",
              "      <td>342</td>\n",
              "    </tr>\n",
              "  </tbody>\n",
              "</table>\n",
              "</div>\n",
              "      <button class=\"colab-df-convert\" onclick=\"convertToInteractive('df-d7fa75fb-aa5a-4f44-87c5-430c9112c016')\"\n",
              "              title=\"Convert this dataframe to an interactive table.\"\n",
              "              style=\"display:none;\">\n",
              "        \n",
              "  <svg xmlns=\"http://www.w3.org/2000/svg\" height=\"24px\"viewBox=\"0 0 24 24\"\n",
              "       width=\"24px\">\n",
              "    <path d=\"M0 0h24v24H0V0z\" fill=\"none\"/>\n",
              "    <path d=\"M18.56 5.44l.94 2.06.94-2.06 2.06-.94-2.06-.94-.94-2.06-.94 2.06-2.06.94zm-11 1L8.5 8.5l.94-2.06 2.06-.94-2.06-.94L8.5 2.5l-.94 2.06-2.06.94zm10 10l.94 2.06.94-2.06 2.06-.94-2.06-.94-.94-2.06-.94 2.06-2.06.94z\"/><path d=\"M17.41 7.96l-1.37-1.37c-.4-.4-.92-.59-1.43-.59-.52 0-1.04.2-1.43.59L10.3 9.45l-7.72 7.72c-.78.78-.78 2.05 0 2.83L4 21.41c.39.39.9.59 1.41.59.51 0 1.02-.2 1.41-.59l7.78-7.78 2.81-2.81c.8-.78.8-2.07 0-2.86zM5.41 20L4 18.59l7.72-7.72 1.47 1.35L5.41 20z\"/>\n",
              "  </svg>\n",
              "      </button>\n",
              "      \n",
              "  <style>\n",
              "    .colab-df-container {\n",
              "      display:flex;\n",
              "      flex-wrap:wrap;\n",
              "      gap: 12px;\n",
              "    }\n",
              "\n",
              "    .colab-df-convert {\n",
              "      background-color: #E8F0FE;\n",
              "      border: none;\n",
              "      border-radius: 50%;\n",
              "      cursor: pointer;\n",
              "      display: none;\n",
              "      fill: #1967D2;\n",
              "      height: 32px;\n",
              "      padding: 0 0 0 0;\n",
              "      width: 32px;\n",
              "    }\n",
              "\n",
              "    .colab-df-convert:hover {\n",
              "      background-color: #E2EBFA;\n",
              "      box-shadow: 0px 1px 2px rgba(60, 64, 67, 0.3), 0px 1px 3px 1px rgba(60, 64, 67, 0.15);\n",
              "      fill: #174EA6;\n",
              "    }\n",
              "\n",
              "    [theme=dark] .colab-df-convert {\n",
              "      background-color: #3B4455;\n",
              "      fill: #D2E3FC;\n",
              "    }\n",
              "\n",
              "    [theme=dark] .colab-df-convert:hover {\n",
              "      background-color: #434B5C;\n",
              "      box-shadow: 0px 1px 3px 1px rgba(0, 0, 0, 0.15);\n",
              "      filter: drop-shadow(0px 1px 2px rgba(0, 0, 0, 0.3));\n",
              "      fill: #FFFFFF;\n",
              "    }\n",
              "  </style>\n",
              "\n",
              "      <script>\n",
              "        const buttonEl =\n",
              "          document.querySelector('#df-d7fa75fb-aa5a-4f44-87c5-430c9112c016 button.colab-df-convert');\n",
              "        buttonEl.style.display =\n",
              "          google.colab.kernel.accessAllowed ? 'block' : 'none';\n",
              "\n",
              "        async function convertToInteractive(key) {\n",
              "          const element = document.querySelector('#df-d7fa75fb-aa5a-4f44-87c5-430c9112c016');\n",
              "          const dataTable =\n",
              "            await google.colab.kernel.invokeFunction('convertToInteractive',\n",
              "                                                     [key], {});\n",
              "          if (!dataTable) return;\n",
              "\n",
              "          const docLinkHtml = 'Like what you see? Visit the ' +\n",
              "            '<a target=\"_blank\" href=https://colab.research.google.com/notebooks/data_table.ipynb>data table notebook</a>'\n",
              "            + ' to learn more about interactive tables.';\n",
              "          element.innerHTML = '';\n",
              "          dataTable['output_type'] = 'display_data';\n",
              "          await google.colab.output.renderOutput(dataTable, element);\n",
              "          const docLink = document.createElement('div');\n",
              "          docLink.innerHTML = docLinkHtml;\n",
              "          element.appendChild(docLink);\n",
              "        }\n",
              "      </script>\n",
              "    </div>\n",
              "  </div>\n",
              "  "
            ]
          },
          "metadata": {},
          "execution_count": 25
        }
      ]
    },
    {
      "cell_type": "code",
      "source": [
        "all_entities.shape"
      ],
      "metadata": {
        "colab": {
          "base_uri": "https://localhost:8080/"
        },
        "id": "QRmoJ3qlUFwa",
        "outputId": "8edb7515-4dde-4994-bfad-fa15ab798094"
      },
      "execution_count": null,
      "outputs": [
        {
          "output_type": "execute_result",
          "data": {
            "text/plain": [
              "(5150, 2)"
            ]
          },
          "metadata": {},
          "execution_count": 52
        }
      ]
    },
    {
      "cell_type": "code",
      "source": [
        "all_entities.to_csv('objective1.csv')"
      ],
      "metadata": {
        "id": "jb1zW9gA2XM6"
      },
      "execution_count": null,
      "outputs": []
    },
    {
      "cell_type": "markdown",
      "source": [
        "#Sentiment/Polarity of each Author"
      ],
      "metadata": {
        "id": "Hn9pJYlm4IBM"
      }
    },
    {
      "cell_type": "code",
      "source": [
        "data['tweet_text'] = data['tweet_text'].astype('str')\n",
        "def get_polarity(text):\n",
        "  return TextBlob(text).sentiment.polarity\n",
        "data['Polarity'] = data['tweet_text'].apply(get_polarity)"
      ],
      "metadata": {
        "id": "3pYo6IzR3_zu"
      },
      "execution_count": null,
      "outputs": []
    },
    {
      "cell_type": "code",
      "source": [
        "data.to_csv('objective2.csv')"
      ],
      "metadata": {
        "id": "U22bB9zs4ABV"
      },
      "execution_count": null,
      "outputs": []
    },
    {
      "cell_type": "code",
      "source": [
        "data.head(20)"
      ],
      "metadata": {
        "colab": {
          "base_uri": "https://localhost:8080/",
          "height": 677
        },
        "id": "2AU0qtQQ4n4E",
        "outputId": "602252f4-d6ab-40b6-f70f-7035f8637b6d"
      },
      "execution_count": null,
      "outputs": [
        {
          "output_type": "execute_result",
          "data": {
            "text/plain": [
              "                                       tweet_author  \\\n",
              "1374140386071961602              Hematopoiesis News   \n",
              "1374032432173842437                Michael Wang, MD   \n",
              "1373902876553048065                     1stOncology   \n",
              "1373656782367813635                       Toby Eyre   \n",
              "1372941634334232586                    Lymphoma Hub   \n",
              "1372927482278539265                    David Ledger   \n",
              "1372911723305394179            N Wales Cancer Forum   \n",
              "1372888121159868423  European Pharmaceutical Review   \n",
              "1372866915081797632                  Graham Collins   \n",
              "1372825553837944834                     CLL Ireland   \n",
              "1372788676191608837                      Mice Ideas   \n",
              "1372662881230188555                Farooq A Wandroo   \n",
              "1372583112723533827                  Leukaemia Care   \n",
              "1372558560543047693                      Helen Oram   \n",
              "1372549029767299076                     HealthWatch   \n",
              "1372529109805510658                    PHARMABOX.IN   \n",
              "1372528985691746305                   Pharma Trader   \n",
              "1372528101335265284               Everything Pharma   \n",
              "1372526440680333314                      IJPSonline   \n",
              "1372519291635998731                  Iceberg Vision   \n",
              "\n",
              "                                                            tweet_text  \\\n",
              "1374140386071961602  ['scientists', 'conducted', 'phase', 'ii', 'st...   \n",
              "1374032432173842437  ['phase', 'acalabrutinibvenetoclax', 'av', 'tr...   \n",
              "1373902876553048065  ['nice', 'backs', 'astrazenecas', 'calquence',...   \n",
              "1373656782367813635  ['acalabrutinib', 'valuable', 'option', 'pts',...   \n",
              "1372941634334232586  ['nice', 'recommended', 'use', 'acalabrutinib'...   \n",
              "1372927482278539265  ['nice', 'backs', 'astrazenecas', 'calquence',...   \n",
              "1372911723305394179  ['england', 'decisions', 'usually', 'come', 'w...   \n",
              "1372888121159868423  ['astrazenecas', 'calquence', 'acalabrutinib',...   \n",
              "1372866915081797632  ['superstar', 'tobyeyre', 'responding', 'excel...   \n",
              "1372825553837944834  ['cll', 'patients', 'know', 'drug', 'ibrutinib...   \n",
              "1372788676191608837  ['optimal', 'management', 'highrisk', 'cll', '...   \n",
              "1372662881230188555  ['acalabrutinib', 'forms', 'cll', 'nice', 'tod...   \n",
              "1372583112723533827  ['announced', 'today', 'thursday', 'th', 'marc...   \n",
              "1372558560543047693  ['nice', 'recommended', 'use', 'acalabrutinib'...   \n",
              "1372549029767299076  ['brand', 'new', 'oral', 'treatment', 'acalabr...   \n",
              "1372529109805510658  ['nice', 'backs', 'astrazenecas', 'calquence',...   \n",
              "1372528985691746305  ['nice', 'backs', 'astrazenecas', 'calquence',...   \n",
              "1372528101335265284  ['nice', 'backs', 'astrazenecas', 'calquence',...   \n",
              "1372526440680333314  ['nice', 'backs', 'astrazenecas', 'calquence',...   \n",
              "1372519291635998731  ['nice', 'backs', 'astrazenecas', 'calquence',...   \n",
              "\n",
              "                     Polarity  \n",
              "1374140386071961602  0.000000  \n",
              "1374032432173842437  0.000000  \n",
              "1373902876553048065  0.600000  \n",
              "1373656782367813635  0.100000  \n",
              "1372941634334232586  0.600000  \n",
              "1372927482278539265  0.600000  \n",
              "1372911723305394179 -0.250000  \n",
              "1372888121159868423  0.000000  \n",
              "1372866915081797632  0.800000  \n",
              "1372825553837944834  0.045455  \n",
              "1372788676191608837  0.000000  \n",
              "1372662881230188555  0.400000  \n",
              "1372583112723533827  0.407143  \n",
              "1372558560543047693  0.600000  \n",
              "1372549029767299076  0.245455  \n",
              "1372529109805510658  0.600000  \n",
              "1372528985691746305  0.600000  \n",
              "1372528101335265284  0.600000  \n",
              "1372526440680333314  0.600000  \n",
              "1372519291635998731  0.600000  "
            ],
            "text/html": [
              "\n",
              "  <div id=\"df-421d9cbf-dede-4cad-a4fa-e99855f92e01\">\n",
              "    <div class=\"colab-df-container\">\n",
              "      <div>\n",
              "<style scoped>\n",
              "    .dataframe tbody tr th:only-of-type {\n",
              "        vertical-align: middle;\n",
              "    }\n",
              "\n",
              "    .dataframe tbody tr th {\n",
              "        vertical-align: top;\n",
              "    }\n",
              "\n",
              "    .dataframe thead th {\n",
              "        text-align: right;\n",
              "    }\n",
              "</style>\n",
              "<table border=\"1\" class=\"dataframe\">\n",
              "  <thead>\n",
              "    <tr style=\"text-align: right;\">\n",
              "      <th></th>\n",
              "      <th>tweet_author</th>\n",
              "      <th>tweet_text</th>\n",
              "      <th>Polarity</th>\n",
              "    </tr>\n",
              "  </thead>\n",
              "  <tbody>\n",
              "    <tr>\n",
              "      <th>1374140386071961602</th>\n",
              "      <td>Hematopoiesis News</td>\n",
              "      <td>['scientists', 'conducted', 'phase', 'ii', 'st...</td>\n",
              "      <td>0.000000</td>\n",
              "    </tr>\n",
              "    <tr>\n",
              "      <th>1374032432173842437</th>\n",
              "      <td>Michael Wang, MD</td>\n",
              "      <td>['phase', 'acalabrutinibvenetoclax', 'av', 'tr...</td>\n",
              "      <td>0.000000</td>\n",
              "    </tr>\n",
              "    <tr>\n",
              "      <th>1373902876553048065</th>\n",
              "      <td>1stOncology</td>\n",
              "      <td>['nice', 'backs', 'astrazenecas', 'calquence',...</td>\n",
              "      <td>0.600000</td>\n",
              "    </tr>\n",
              "    <tr>\n",
              "      <th>1373656782367813635</th>\n",
              "      <td>Toby Eyre</td>\n",
              "      <td>['acalabrutinib', 'valuable', 'option', 'pts',...</td>\n",
              "      <td>0.100000</td>\n",
              "    </tr>\n",
              "    <tr>\n",
              "      <th>1372941634334232586</th>\n",
              "      <td>Lymphoma Hub</td>\n",
              "      <td>['nice', 'recommended', 'use', 'acalabrutinib'...</td>\n",
              "      <td>0.600000</td>\n",
              "    </tr>\n",
              "    <tr>\n",
              "      <th>1372927482278539265</th>\n",
              "      <td>David Ledger</td>\n",
              "      <td>['nice', 'backs', 'astrazenecas', 'calquence',...</td>\n",
              "      <td>0.600000</td>\n",
              "    </tr>\n",
              "    <tr>\n",
              "      <th>1372911723305394179</th>\n",
              "      <td>N Wales Cancer Forum</td>\n",
              "      <td>['england', 'decisions', 'usually', 'come', 'w...</td>\n",
              "      <td>-0.250000</td>\n",
              "    </tr>\n",
              "    <tr>\n",
              "      <th>1372888121159868423</th>\n",
              "      <td>European Pharmaceutical Review</td>\n",
              "      <td>['astrazenecas', 'calquence', 'acalabrutinib',...</td>\n",
              "      <td>0.000000</td>\n",
              "    </tr>\n",
              "    <tr>\n",
              "      <th>1372866915081797632</th>\n",
              "      <td>Graham Collins</td>\n",
              "      <td>['superstar', 'tobyeyre', 'responding', 'excel...</td>\n",
              "      <td>0.800000</td>\n",
              "    </tr>\n",
              "    <tr>\n",
              "      <th>1372825553837944834</th>\n",
              "      <td>CLL Ireland</td>\n",
              "      <td>['cll', 'patients', 'know', 'drug', 'ibrutinib...</td>\n",
              "      <td>0.045455</td>\n",
              "    </tr>\n",
              "    <tr>\n",
              "      <th>1372788676191608837</th>\n",
              "      <td>Mice Ideas</td>\n",
              "      <td>['optimal', 'management', 'highrisk', 'cll', '...</td>\n",
              "      <td>0.000000</td>\n",
              "    </tr>\n",
              "    <tr>\n",
              "      <th>1372662881230188555</th>\n",
              "      <td>Farooq A Wandroo</td>\n",
              "      <td>['acalabrutinib', 'forms', 'cll', 'nice', 'tod...</td>\n",
              "      <td>0.400000</td>\n",
              "    </tr>\n",
              "    <tr>\n",
              "      <th>1372583112723533827</th>\n",
              "      <td>Leukaemia Care</td>\n",
              "      <td>['announced', 'today', 'thursday', 'th', 'marc...</td>\n",
              "      <td>0.407143</td>\n",
              "    </tr>\n",
              "    <tr>\n",
              "      <th>1372558560543047693</th>\n",
              "      <td>Helen Oram</td>\n",
              "      <td>['nice', 'recommended', 'use', 'acalabrutinib'...</td>\n",
              "      <td>0.600000</td>\n",
              "    </tr>\n",
              "    <tr>\n",
              "      <th>1372549029767299076</th>\n",
              "      <td>HealthWatch</td>\n",
              "      <td>['brand', 'new', 'oral', 'treatment', 'acalabr...</td>\n",
              "      <td>0.245455</td>\n",
              "    </tr>\n",
              "    <tr>\n",
              "      <th>1372529109805510658</th>\n",
              "      <td>PHARMABOX.IN</td>\n",
              "      <td>['nice', 'backs', 'astrazenecas', 'calquence',...</td>\n",
              "      <td>0.600000</td>\n",
              "    </tr>\n",
              "    <tr>\n",
              "      <th>1372528985691746305</th>\n",
              "      <td>Pharma Trader</td>\n",
              "      <td>['nice', 'backs', 'astrazenecas', 'calquence',...</td>\n",
              "      <td>0.600000</td>\n",
              "    </tr>\n",
              "    <tr>\n",
              "      <th>1372528101335265284</th>\n",
              "      <td>Everything Pharma</td>\n",
              "      <td>['nice', 'backs', 'astrazenecas', 'calquence',...</td>\n",
              "      <td>0.600000</td>\n",
              "    </tr>\n",
              "    <tr>\n",
              "      <th>1372526440680333314</th>\n",
              "      <td>IJPSonline</td>\n",
              "      <td>['nice', 'backs', 'astrazenecas', 'calquence',...</td>\n",
              "      <td>0.600000</td>\n",
              "    </tr>\n",
              "    <tr>\n",
              "      <th>1372519291635998731</th>\n",
              "      <td>Iceberg Vision</td>\n",
              "      <td>['nice', 'backs', 'astrazenecas', 'calquence',...</td>\n",
              "      <td>0.600000</td>\n",
              "    </tr>\n",
              "  </tbody>\n",
              "</table>\n",
              "</div>\n",
              "      <button class=\"colab-df-convert\" onclick=\"convertToInteractive('df-421d9cbf-dede-4cad-a4fa-e99855f92e01')\"\n",
              "              title=\"Convert this dataframe to an interactive table.\"\n",
              "              style=\"display:none;\">\n",
              "        \n",
              "  <svg xmlns=\"http://www.w3.org/2000/svg\" height=\"24px\"viewBox=\"0 0 24 24\"\n",
              "       width=\"24px\">\n",
              "    <path d=\"M0 0h24v24H0V0z\" fill=\"none\"/>\n",
              "    <path d=\"M18.56 5.44l.94 2.06.94-2.06 2.06-.94-2.06-.94-.94-2.06-.94 2.06-2.06.94zm-11 1L8.5 8.5l.94-2.06 2.06-.94-2.06-.94L8.5 2.5l-.94 2.06-2.06.94zm10 10l.94 2.06.94-2.06 2.06-.94-2.06-.94-.94-2.06-.94 2.06-2.06.94z\"/><path d=\"M17.41 7.96l-1.37-1.37c-.4-.4-.92-.59-1.43-.59-.52 0-1.04.2-1.43.59L10.3 9.45l-7.72 7.72c-.78.78-.78 2.05 0 2.83L4 21.41c.39.39.9.59 1.41.59.51 0 1.02-.2 1.41-.59l7.78-7.78 2.81-2.81c.8-.78.8-2.07 0-2.86zM5.41 20L4 18.59l7.72-7.72 1.47 1.35L5.41 20z\"/>\n",
              "  </svg>\n",
              "      </button>\n",
              "      \n",
              "  <style>\n",
              "    .colab-df-container {\n",
              "      display:flex;\n",
              "      flex-wrap:wrap;\n",
              "      gap: 12px;\n",
              "    }\n",
              "\n",
              "    .colab-df-convert {\n",
              "      background-color: #E8F0FE;\n",
              "      border: none;\n",
              "      border-radius: 50%;\n",
              "      cursor: pointer;\n",
              "      display: none;\n",
              "      fill: #1967D2;\n",
              "      height: 32px;\n",
              "      padding: 0 0 0 0;\n",
              "      width: 32px;\n",
              "    }\n",
              "\n",
              "    .colab-df-convert:hover {\n",
              "      background-color: #E2EBFA;\n",
              "      box-shadow: 0px 1px 2px rgba(60, 64, 67, 0.3), 0px 1px 3px 1px rgba(60, 64, 67, 0.15);\n",
              "      fill: #174EA6;\n",
              "    }\n",
              "\n",
              "    [theme=dark] .colab-df-convert {\n",
              "      background-color: #3B4455;\n",
              "      fill: #D2E3FC;\n",
              "    }\n",
              "\n",
              "    [theme=dark] .colab-df-convert:hover {\n",
              "      background-color: #434B5C;\n",
              "      box-shadow: 0px 1px 3px 1px rgba(0, 0, 0, 0.15);\n",
              "      filter: drop-shadow(0px 1px 2px rgba(0, 0, 0, 0.3));\n",
              "      fill: #FFFFFF;\n",
              "    }\n",
              "  </style>\n",
              "\n",
              "      <script>\n",
              "        const buttonEl =\n",
              "          document.querySelector('#df-421d9cbf-dede-4cad-a4fa-e99855f92e01 button.colab-df-convert');\n",
              "        buttonEl.style.display =\n",
              "          google.colab.kernel.accessAllowed ? 'block' : 'none';\n",
              "\n",
              "        async function convertToInteractive(key) {\n",
              "          const element = document.querySelector('#df-421d9cbf-dede-4cad-a4fa-e99855f92e01');\n",
              "          const dataTable =\n",
              "            await google.colab.kernel.invokeFunction('convertToInteractive',\n",
              "                                                     [key], {});\n",
              "          if (!dataTable) return;\n",
              "\n",
              "          const docLinkHtml = 'Like what you see? Visit the ' +\n",
              "            '<a target=\"_blank\" href=https://colab.research.google.com/notebooks/data_table.ipynb>data table notebook</a>'\n",
              "            + ' to learn more about interactive tables.';\n",
              "          element.innerHTML = '';\n",
              "          dataTable['output_type'] = 'display_data';\n",
              "          await google.colab.output.renderOutput(dataTable, element);\n",
              "          const docLink = document.createElement('div');\n",
              "          docLink.innerHTML = docLinkHtml;\n",
              "          element.appendChild(docLink);\n",
              "        }\n",
              "      </script>\n",
              "    </div>\n",
              "  </div>\n",
              "  "
            ]
          },
          "metadata": {},
          "execution_count": 29
        }
      ]
    },
    {
      "cell_type": "code",
      "source": [
        "data.Polarity.unique()"
      ],
      "metadata": {
        "colab": {
          "base_uri": "https://localhost:8080/"
        },
        "id": "7Svuzm8PAWdn",
        "outputId": "467cd7c7-fce3-482b-b36e-1aa80f09c6e7"
      },
      "execution_count": null,
      "outputs": [
        {
          "output_type": "execute_result",
          "data": {
            "text/plain": [
              "array([ 0.        ,  0.6       ,  0.1       , ..., -0.025     ,\n",
              "       -0.1       ,  0.06927273])"
            ]
          },
          "metadata": {},
          "execution_count": 30
        }
      ]
    },
    {
      "cell_type": "code",
      "source": [
        "data1 = data"
      ],
      "metadata": {
        "id": "l4S-uzIzIyZs"
      },
      "execution_count": null,
      "outputs": []
    },
    {
      "cell_type": "code",
      "source": [
        "def overall_polarity(value):\n",
        "  if value > 0.5 :\n",
        "    return \"Positive\"\n",
        "  else :\n",
        "    return \"Negative\"\n",
        "\n",
        "data1['overall_polarity'] = data1['Polarity'].map(overall_polarity)\n",
        "data1.head()"
      ],
      "metadata": {
        "colab": {
          "base_uri": "https://localhost:8080/",
          "height": 206
        },
        "id": "hXv0a-AVI01i",
        "outputId": "c2798fed-3a6e-4e8d-e099-ca8816d9bd50"
      },
      "execution_count": null,
      "outputs": [
        {
          "output_type": "execute_result",
          "data": {
            "text/plain": [
              "                           tweet_author  \\\n",
              "1374140386071961602  Hematopoiesis News   \n",
              "1374032432173842437    Michael Wang, MD   \n",
              "1373902876553048065         1stOncology   \n",
              "1373656782367813635           Toby Eyre   \n",
              "1372941634334232586        Lymphoma Hub   \n",
              "\n",
              "                                                            tweet_text  \\\n",
              "1374140386071961602  ['scientists', 'conducted', 'phase', 'ii', 'st...   \n",
              "1374032432173842437  ['phase', 'acalabrutinibvenetoclax', 'av', 'tr...   \n",
              "1373902876553048065  ['nice', 'backs', 'astrazenecas', 'calquence',...   \n",
              "1373656782367813635  ['acalabrutinib', 'valuable', 'option', 'pts',...   \n",
              "1372941634334232586  ['nice', 'recommended', 'use', 'acalabrutinib'...   \n",
              "\n",
              "                     Polarity overall_polarity  \n",
              "1374140386071961602       0.0         Negative  \n",
              "1374032432173842437       0.0         Negative  \n",
              "1373902876553048065       0.6         Positive  \n",
              "1373656782367813635       0.1         Negative  \n",
              "1372941634334232586       0.6         Positive  "
            ],
            "text/html": [
              "\n",
              "  <div id=\"df-d503fa3f-a950-4a2b-a57d-e726495185e0\">\n",
              "    <div class=\"colab-df-container\">\n",
              "      <div>\n",
              "<style scoped>\n",
              "    .dataframe tbody tr th:only-of-type {\n",
              "        vertical-align: middle;\n",
              "    }\n",
              "\n",
              "    .dataframe tbody tr th {\n",
              "        vertical-align: top;\n",
              "    }\n",
              "\n",
              "    .dataframe thead th {\n",
              "        text-align: right;\n",
              "    }\n",
              "</style>\n",
              "<table border=\"1\" class=\"dataframe\">\n",
              "  <thead>\n",
              "    <tr style=\"text-align: right;\">\n",
              "      <th></th>\n",
              "      <th>tweet_author</th>\n",
              "      <th>tweet_text</th>\n",
              "      <th>Polarity</th>\n",
              "      <th>overall_polarity</th>\n",
              "    </tr>\n",
              "  </thead>\n",
              "  <tbody>\n",
              "    <tr>\n",
              "      <th>1374140386071961602</th>\n",
              "      <td>Hematopoiesis News</td>\n",
              "      <td>['scientists', 'conducted', 'phase', 'ii', 'st...</td>\n",
              "      <td>0.0</td>\n",
              "      <td>Negative</td>\n",
              "    </tr>\n",
              "    <tr>\n",
              "      <th>1374032432173842437</th>\n",
              "      <td>Michael Wang, MD</td>\n",
              "      <td>['phase', 'acalabrutinibvenetoclax', 'av', 'tr...</td>\n",
              "      <td>0.0</td>\n",
              "      <td>Negative</td>\n",
              "    </tr>\n",
              "    <tr>\n",
              "      <th>1373902876553048065</th>\n",
              "      <td>1stOncology</td>\n",
              "      <td>['nice', 'backs', 'astrazenecas', 'calquence',...</td>\n",
              "      <td>0.6</td>\n",
              "      <td>Positive</td>\n",
              "    </tr>\n",
              "    <tr>\n",
              "      <th>1373656782367813635</th>\n",
              "      <td>Toby Eyre</td>\n",
              "      <td>['acalabrutinib', 'valuable', 'option', 'pts',...</td>\n",
              "      <td>0.1</td>\n",
              "      <td>Negative</td>\n",
              "    </tr>\n",
              "    <tr>\n",
              "      <th>1372941634334232586</th>\n",
              "      <td>Lymphoma Hub</td>\n",
              "      <td>['nice', 'recommended', 'use', 'acalabrutinib'...</td>\n",
              "      <td>0.6</td>\n",
              "      <td>Positive</td>\n",
              "    </tr>\n",
              "  </tbody>\n",
              "</table>\n",
              "</div>\n",
              "      <button class=\"colab-df-convert\" onclick=\"convertToInteractive('df-d503fa3f-a950-4a2b-a57d-e726495185e0')\"\n",
              "              title=\"Convert this dataframe to an interactive table.\"\n",
              "              style=\"display:none;\">\n",
              "        \n",
              "  <svg xmlns=\"http://www.w3.org/2000/svg\" height=\"24px\"viewBox=\"0 0 24 24\"\n",
              "       width=\"24px\">\n",
              "    <path d=\"M0 0h24v24H0V0z\" fill=\"none\"/>\n",
              "    <path d=\"M18.56 5.44l.94 2.06.94-2.06 2.06-.94-2.06-.94-.94-2.06-.94 2.06-2.06.94zm-11 1L8.5 8.5l.94-2.06 2.06-.94-2.06-.94L8.5 2.5l-.94 2.06-2.06.94zm10 10l.94 2.06.94-2.06 2.06-.94-2.06-.94-.94-2.06-.94 2.06-2.06.94z\"/><path d=\"M17.41 7.96l-1.37-1.37c-.4-.4-.92-.59-1.43-.59-.52 0-1.04.2-1.43.59L10.3 9.45l-7.72 7.72c-.78.78-.78 2.05 0 2.83L4 21.41c.39.39.9.59 1.41.59.51 0 1.02-.2 1.41-.59l7.78-7.78 2.81-2.81c.8-.78.8-2.07 0-2.86zM5.41 20L4 18.59l7.72-7.72 1.47 1.35L5.41 20z\"/>\n",
              "  </svg>\n",
              "      </button>\n",
              "      \n",
              "  <style>\n",
              "    .colab-df-container {\n",
              "      display:flex;\n",
              "      flex-wrap:wrap;\n",
              "      gap: 12px;\n",
              "    }\n",
              "\n",
              "    .colab-df-convert {\n",
              "      background-color: #E8F0FE;\n",
              "      border: none;\n",
              "      border-radius: 50%;\n",
              "      cursor: pointer;\n",
              "      display: none;\n",
              "      fill: #1967D2;\n",
              "      height: 32px;\n",
              "      padding: 0 0 0 0;\n",
              "      width: 32px;\n",
              "    }\n",
              "\n",
              "    .colab-df-convert:hover {\n",
              "      background-color: #E2EBFA;\n",
              "      box-shadow: 0px 1px 2px rgba(60, 64, 67, 0.3), 0px 1px 3px 1px rgba(60, 64, 67, 0.15);\n",
              "      fill: #174EA6;\n",
              "    }\n",
              "\n",
              "    [theme=dark] .colab-df-convert {\n",
              "      background-color: #3B4455;\n",
              "      fill: #D2E3FC;\n",
              "    }\n",
              "\n",
              "    [theme=dark] .colab-df-convert:hover {\n",
              "      background-color: #434B5C;\n",
              "      box-shadow: 0px 1px 3px 1px rgba(0, 0, 0, 0.15);\n",
              "      filter: drop-shadow(0px 1px 2px rgba(0, 0, 0, 0.3));\n",
              "      fill: #FFFFFF;\n",
              "    }\n",
              "  </style>\n",
              "\n",
              "      <script>\n",
              "        const buttonEl =\n",
              "          document.querySelector('#df-d503fa3f-a950-4a2b-a57d-e726495185e0 button.colab-df-convert');\n",
              "        buttonEl.style.display =\n",
              "          google.colab.kernel.accessAllowed ? 'block' : 'none';\n",
              "\n",
              "        async function convertToInteractive(key) {\n",
              "          const element = document.querySelector('#df-d503fa3f-a950-4a2b-a57d-e726495185e0');\n",
              "          const dataTable =\n",
              "            await google.colab.kernel.invokeFunction('convertToInteractive',\n",
              "                                                     [key], {});\n",
              "          if (!dataTable) return;\n",
              "\n",
              "          const docLinkHtml = 'Like what you see? Visit the ' +\n",
              "            '<a target=\"_blank\" href=https://colab.research.google.com/notebooks/data_table.ipynb>data table notebook</a>'\n",
              "            + ' to learn more about interactive tables.';\n",
              "          element.innerHTML = '';\n",
              "          dataTable['output_type'] = 'display_data';\n",
              "          await google.colab.output.renderOutput(dataTable, element);\n",
              "          const docLink = document.createElement('div');\n",
              "          docLink.innerHTML = docLinkHtml;\n",
              "          element.appendChild(docLink);\n",
              "        }\n",
              "      </script>\n",
              "    </div>\n",
              "  </div>\n",
              "  "
            ]
          },
          "metadata": {},
          "execution_count": 32
        }
      ]
    },
    {
      "cell_type": "code",
      "source": [
        "data2 = data1[['tweet_author','overall_polarity']]\n",
        "data2"
      ],
      "metadata": {
        "colab": {
          "base_uri": "https://localhost:8080/",
          "height": 424
        },
        "id": "nuDZMsV4I03m",
        "outputId": "3dff9441-b0b8-40ec-ce60-eac6f7490de5"
      },
      "execution_count": null,
      "outputs": [
        {
          "output_type": "execute_result",
          "data": {
            "text/plain": [
              "                           tweet_author overall_polarity\n",
              "1374140386071961602  Hematopoiesis News         Negative\n",
              "1374032432173842437    Michael Wang, MD         Negative\n",
              "1373902876553048065         1stOncology         Positive\n",
              "1373656782367813635           Toby Eyre         Negative\n",
              "1372941634334232586        Lymphoma Hub         Positive\n",
              "...                                 ...              ...\n",
              "551103473643945985   Joy is a Lifestyle         Positive\n",
              "551102786675290112        𝓒𝓻𝓲𝔃𝔃𝔂 𝓟𝓮𝓻𝓻𝔂🌹         Positive\n",
              "550969541186953217                IQWiG         Negative\n",
              "550941480525635584            Medibooks         Negative\n",
              "550579446537678849            Medibooks         Negative\n",
              "\n",
              "[43347 rows x 2 columns]"
            ],
            "text/html": [
              "\n",
              "  <div id=\"df-dcf94600-4c71-4751-9a30-819cd62c4077\">\n",
              "    <div class=\"colab-df-container\">\n",
              "      <div>\n",
              "<style scoped>\n",
              "    .dataframe tbody tr th:only-of-type {\n",
              "        vertical-align: middle;\n",
              "    }\n",
              "\n",
              "    .dataframe tbody tr th {\n",
              "        vertical-align: top;\n",
              "    }\n",
              "\n",
              "    .dataframe thead th {\n",
              "        text-align: right;\n",
              "    }\n",
              "</style>\n",
              "<table border=\"1\" class=\"dataframe\">\n",
              "  <thead>\n",
              "    <tr style=\"text-align: right;\">\n",
              "      <th></th>\n",
              "      <th>tweet_author</th>\n",
              "      <th>overall_polarity</th>\n",
              "    </tr>\n",
              "  </thead>\n",
              "  <tbody>\n",
              "    <tr>\n",
              "      <th>1374140386071961602</th>\n",
              "      <td>Hematopoiesis News</td>\n",
              "      <td>Negative</td>\n",
              "    </tr>\n",
              "    <tr>\n",
              "      <th>1374032432173842437</th>\n",
              "      <td>Michael Wang, MD</td>\n",
              "      <td>Negative</td>\n",
              "    </tr>\n",
              "    <tr>\n",
              "      <th>1373902876553048065</th>\n",
              "      <td>1stOncology</td>\n",
              "      <td>Positive</td>\n",
              "    </tr>\n",
              "    <tr>\n",
              "      <th>1373656782367813635</th>\n",
              "      <td>Toby Eyre</td>\n",
              "      <td>Negative</td>\n",
              "    </tr>\n",
              "    <tr>\n",
              "      <th>1372941634334232586</th>\n",
              "      <td>Lymphoma Hub</td>\n",
              "      <td>Positive</td>\n",
              "    </tr>\n",
              "    <tr>\n",
              "      <th>...</th>\n",
              "      <td>...</td>\n",
              "      <td>...</td>\n",
              "    </tr>\n",
              "    <tr>\n",
              "      <th>551103473643945985</th>\n",
              "      <td>Joy is a Lifestyle</td>\n",
              "      <td>Positive</td>\n",
              "    </tr>\n",
              "    <tr>\n",
              "      <th>551102786675290112</th>\n",
              "      <td>𝓒𝓻𝓲𝔃𝔃𝔂 𝓟𝓮𝓻𝓻𝔂🌹</td>\n",
              "      <td>Positive</td>\n",
              "    </tr>\n",
              "    <tr>\n",
              "      <th>550969541186953217</th>\n",
              "      <td>IQWiG</td>\n",
              "      <td>Negative</td>\n",
              "    </tr>\n",
              "    <tr>\n",
              "      <th>550941480525635584</th>\n",
              "      <td>Medibooks</td>\n",
              "      <td>Negative</td>\n",
              "    </tr>\n",
              "    <tr>\n",
              "      <th>550579446537678849</th>\n",
              "      <td>Medibooks</td>\n",
              "      <td>Negative</td>\n",
              "    </tr>\n",
              "  </tbody>\n",
              "</table>\n",
              "<p>43347 rows × 2 columns</p>\n",
              "</div>\n",
              "      <button class=\"colab-df-convert\" onclick=\"convertToInteractive('df-dcf94600-4c71-4751-9a30-819cd62c4077')\"\n",
              "              title=\"Convert this dataframe to an interactive table.\"\n",
              "              style=\"display:none;\">\n",
              "        \n",
              "  <svg xmlns=\"http://www.w3.org/2000/svg\" height=\"24px\"viewBox=\"0 0 24 24\"\n",
              "       width=\"24px\">\n",
              "    <path d=\"M0 0h24v24H0V0z\" fill=\"none\"/>\n",
              "    <path d=\"M18.56 5.44l.94 2.06.94-2.06 2.06-.94-2.06-.94-.94-2.06-.94 2.06-2.06.94zm-11 1L8.5 8.5l.94-2.06 2.06-.94-2.06-.94L8.5 2.5l-.94 2.06-2.06.94zm10 10l.94 2.06.94-2.06 2.06-.94-2.06-.94-.94-2.06-.94 2.06-2.06.94z\"/><path d=\"M17.41 7.96l-1.37-1.37c-.4-.4-.92-.59-1.43-.59-.52 0-1.04.2-1.43.59L10.3 9.45l-7.72 7.72c-.78.78-.78 2.05 0 2.83L4 21.41c.39.39.9.59 1.41.59.51 0 1.02-.2 1.41-.59l7.78-7.78 2.81-2.81c.8-.78.8-2.07 0-2.86zM5.41 20L4 18.59l7.72-7.72 1.47 1.35L5.41 20z\"/>\n",
              "  </svg>\n",
              "      </button>\n",
              "      \n",
              "  <style>\n",
              "    .colab-df-container {\n",
              "      display:flex;\n",
              "      flex-wrap:wrap;\n",
              "      gap: 12px;\n",
              "    }\n",
              "\n",
              "    .colab-df-convert {\n",
              "      background-color: #E8F0FE;\n",
              "      border: none;\n",
              "      border-radius: 50%;\n",
              "      cursor: pointer;\n",
              "      display: none;\n",
              "      fill: #1967D2;\n",
              "      height: 32px;\n",
              "      padding: 0 0 0 0;\n",
              "      width: 32px;\n",
              "    }\n",
              "\n",
              "    .colab-df-convert:hover {\n",
              "      background-color: #E2EBFA;\n",
              "      box-shadow: 0px 1px 2px rgba(60, 64, 67, 0.3), 0px 1px 3px 1px rgba(60, 64, 67, 0.15);\n",
              "      fill: #174EA6;\n",
              "    }\n",
              "\n",
              "    [theme=dark] .colab-df-convert {\n",
              "      background-color: #3B4455;\n",
              "      fill: #D2E3FC;\n",
              "    }\n",
              "\n",
              "    [theme=dark] .colab-df-convert:hover {\n",
              "      background-color: #434B5C;\n",
              "      box-shadow: 0px 1px 3px 1px rgba(0, 0, 0, 0.15);\n",
              "      filter: drop-shadow(0px 1px 2px rgba(0, 0, 0, 0.3));\n",
              "      fill: #FFFFFF;\n",
              "    }\n",
              "  </style>\n",
              "\n",
              "      <script>\n",
              "        const buttonEl =\n",
              "          document.querySelector('#df-dcf94600-4c71-4751-9a30-819cd62c4077 button.colab-df-convert');\n",
              "        buttonEl.style.display =\n",
              "          google.colab.kernel.accessAllowed ? 'block' : 'none';\n",
              "\n",
              "        async function convertToInteractive(key) {\n",
              "          const element = document.querySelector('#df-dcf94600-4c71-4751-9a30-819cd62c4077');\n",
              "          const dataTable =\n",
              "            await google.colab.kernel.invokeFunction('convertToInteractive',\n",
              "                                                     [key], {});\n",
              "          if (!dataTable) return;\n",
              "\n",
              "          const docLinkHtml = 'Like what you see? Visit the ' +\n",
              "            '<a target=\"_blank\" href=https://colab.research.google.com/notebooks/data_table.ipynb>data table notebook</a>'\n",
              "            + ' to learn more about interactive tables.';\n",
              "          element.innerHTML = '';\n",
              "          dataTable['output_type'] = 'display_data';\n",
              "          await google.colab.output.renderOutput(dataTable, element);\n",
              "          const docLink = document.createElement('div');\n",
              "          docLink.innerHTML = docLinkHtml;\n",
              "          element.appendChild(docLink);\n",
              "        }\n",
              "      </script>\n",
              "    </div>\n",
              "  </div>\n",
              "  "
            ]
          },
          "metadata": {},
          "execution_count": 53
        }
      ]
    },
    {
      "cell_type": "code",
      "source": [
        "data2.to_csv('objective3.csv')"
      ],
      "metadata": {
        "id": "cHUkYkTpWa2T"
      },
      "execution_count": null,
      "outputs": []
    },
    {
      "cell_type": "code",
      "source": [
        "all_entities.Frequency.unique()"
      ],
      "metadata": {
        "colab": {
          "base_uri": "https://localhost:8080/"
        },
        "id": "S6ja7idqVSfE",
        "outputId": "88502d47-4fa8-4822-fc9f-99412ac26103"
      },
      "execution_count": null,
      "outputs": [
        {
          "output_type": "execute_result",
          "data": {
            "text/plain": [
              "array([1306,  893,  790,  694,  598,  562,  425,  388,  351,  342,  340,\n",
              "        339,  282,  266,  264,  263,  247,  244,  196,  194,  192,  191,\n",
              "        183,  166,  159,  149,  145,  143,  139,  134,  132,  130,  125,\n",
              "        123,  122,  120,  110,  103,  101,   98,   92,   91,   90,   89,\n",
              "         88,   84,   83,   80,   79,   77,   76,   74,   73,   71,   70,\n",
              "         69,   68,   66,   65,   63,   62,   61,   60,   57,   56,   55,\n",
              "         54,   53,   52,   51,   50,   49,   48,   47,   46,   45,   44,\n",
              "         43,   42,   41,   40,   39,   38,   36,   35,   34,   33,   32,\n",
              "         31,   30,   29,   28,   27,   26,   25,   24,   23,   22,   21,\n",
              "         20,   19,   18,   17,   16,   15,   14,   13,   12,   11,   10,\n",
              "          9,    8,    7,    6,    5,    4,    3,    2,    1])"
            ]
          },
          "metadata": {},
          "execution_count": 63
        }
      ]
    },
    {
      "cell_type": "code",
      "source": [
        "all = all_entities"
      ],
      "metadata": {
        "id": "MFTpmlDnXT69"
      },
      "execution_count": null,
      "outputs": []
    },
    {
      "cell_type": "code",
      "source": [
        "def overall_polarity1(value):\n",
        "  if value > 130 :\n",
        "    return \"Positive\"\n",
        "  else :\n",
        "    return \"Negative\"\n",
        "\n",
        "all['overall_polarity'] = all['Frequency'].map(overall_polarity1)\n",
        "all.head()"
      ],
      "metadata": {
        "colab": {
          "base_uri": "https://localhost:8080/",
          "height": 206
        },
        "id": "dlUtu9-ZVSr0",
        "outputId": "cc39625e-f6fe-4b1c-ba0a-1eccc01d6f63"
      },
      "execution_count": null,
      "outputs": [
        {
          "output_type": "execute_result",
          "data": {
            "text/plain": [
              "          Entity  Frequency overall_polarity\n",
              "0  acalabrutinib       1306         Positive\n",
              "1       calquenc        893         Positive\n",
              "2        patient        790         Positive\n",
              "3          covid        694         Positive\n",
              "4    astrazeneca        598         Positive"
            ],
            "text/html": [
              "\n",
              "  <div id=\"df-120121c1-4686-4f43-8c9f-4d76e8efc421\">\n",
              "    <div class=\"colab-df-container\">\n",
              "      <div>\n",
              "<style scoped>\n",
              "    .dataframe tbody tr th:only-of-type {\n",
              "        vertical-align: middle;\n",
              "    }\n",
              "\n",
              "    .dataframe tbody tr th {\n",
              "        vertical-align: top;\n",
              "    }\n",
              "\n",
              "    .dataframe thead th {\n",
              "        text-align: right;\n",
              "    }\n",
              "</style>\n",
              "<table border=\"1\" class=\"dataframe\">\n",
              "  <thead>\n",
              "    <tr style=\"text-align: right;\">\n",
              "      <th></th>\n",
              "      <th>Entity</th>\n",
              "      <th>Frequency</th>\n",
              "      <th>overall_polarity</th>\n",
              "    </tr>\n",
              "  </thead>\n",
              "  <tbody>\n",
              "    <tr>\n",
              "      <th>0</th>\n",
              "      <td>acalabrutinib</td>\n",
              "      <td>1306</td>\n",
              "      <td>Positive</td>\n",
              "    </tr>\n",
              "    <tr>\n",
              "      <th>1</th>\n",
              "      <td>calquenc</td>\n",
              "      <td>893</td>\n",
              "      <td>Positive</td>\n",
              "    </tr>\n",
              "    <tr>\n",
              "      <th>2</th>\n",
              "      <td>patient</td>\n",
              "      <td>790</td>\n",
              "      <td>Positive</td>\n",
              "    </tr>\n",
              "    <tr>\n",
              "      <th>3</th>\n",
              "      <td>covid</td>\n",
              "      <td>694</td>\n",
              "      <td>Positive</td>\n",
              "    </tr>\n",
              "    <tr>\n",
              "      <th>4</th>\n",
              "      <td>astrazeneca</td>\n",
              "      <td>598</td>\n",
              "      <td>Positive</td>\n",
              "    </tr>\n",
              "  </tbody>\n",
              "</table>\n",
              "</div>\n",
              "      <button class=\"colab-df-convert\" onclick=\"convertToInteractive('df-120121c1-4686-4f43-8c9f-4d76e8efc421')\"\n",
              "              title=\"Convert this dataframe to an interactive table.\"\n",
              "              style=\"display:none;\">\n",
              "        \n",
              "  <svg xmlns=\"http://www.w3.org/2000/svg\" height=\"24px\"viewBox=\"0 0 24 24\"\n",
              "       width=\"24px\">\n",
              "    <path d=\"M0 0h24v24H0V0z\" fill=\"none\"/>\n",
              "    <path d=\"M18.56 5.44l.94 2.06.94-2.06 2.06-.94-2.06-.94-.94-2.06-.94 2.06-2.06.94zm-11 1L8.5 8.5l.94-2.06 2.06-.94-2.06-.94L8.5 2.5l-.94 2.06-2.06.94zm10 10l.94 2.06.94-2.06 2.06-.94-2.06-.94-.94-2.06-.94 2.06-2.06.94z\"/><path d=\"M17.41 7.96l-1.37-1.37c-.4-.4-.92-.59-1.43-.59-.52 0-1.04.2-1.43.59L10.3 9.45l-7.72 7.72c-.78.78-.78 2.05 0 2.83L4 21.41c.39.39.9.59 1.41.59.51 0 1.02-.2 1.41-.59l7.78-7.78 2.81-2.81c.8-.78.8-2.07 0-2.86zM5.41 20L4 18.59l7.72-7.72 1.47 1.35L5.41 20z\"/>\n",
              "  </svg>\n",
              "      </button>\n",
              "      \n",
              "  <style>\n",
              "    .colab-df-container {\n",
              "      display:flex;\n",
              "      flex-wrap:wrap;\n",
              "      gap: 12px;\n",
              "    }\n",
              "\n",
              "    .colab-df-convert {\n",
              "      background-color: #E8F0FE;\n",
              "      border: none;\n",
              "      border-radius: 50%;\n",
              "      cursor: pointer;\n",
              "      display: none;\n",
              "      fill: #1967D2;\n",
              "      height: 32px;\n",
              "      padding: 0 0 0 0;\n",
              "      width: 32px;\n",
              "    }\n",
              "\n",
              "    .colab-df-convert:hover {\n",
              "      background-color: #E2EBFA;\n",
              "      box-shadow: 0px 1px 2px rgba(60, 64, 67, 0.3), 0px 1px 3px 1px rgba(60, 64, 67, 0.15);\n",
              "      fill: #174EA6;\n",
              "    }\n",
              "\n",
              "    [theme=dark] .colab-df-convert {\n",
              "      background-color: #3B4455;\n",
              "      fill: #D2E3FC;\n",
              "    }\n",
              "\n",
              "    [theme=dark] .colab-df-convert:hover {\n",
              "      background-color: #434B5C;\n",
              "      box-shadow: 0px 1px 3px 1px rgba(0, 0, 0, 0.15);\n",
              "      filter: drop-shadow(0px 1px 2px rgba(0, 0, 0, 0.3));\n",
              "      fill: #FFFFFF;\n",
              "    }\n",
              "  </style>\n",
              "\n",
              "      <script>\n",
              "        const buttonEl =\n",
              "          document.querySelector('#df-120121c1-4686-4f43-8c9f-4d76e8efc421 button.colab-df-convert');\n",
              "        buttonEl.style.display =\n",
              "          google.colab.kernel.accessAllowed ? 'block' : 'none';\n",
              "\n",
              "        async function convertToInteractive(key) {\n",
              "          const element = document.querySelector('#df-120121c1-4686-4f43-8c9f-4d76e8efc421');\n",
              "          const dataTable =\n",
              "            await google.colab.kernel.invokeFunction('convertToInteractive',\n",
              "                                                     [key], {});\n",
              "          if (!dataTable) return;\n",
              "\n",
              "          const docLinkHtml = 'Like what you see? Visit the ' +\n",
              "            '<a target=\"_blank\" href=https://colab.research.google.com/notebooks/data_table.ipynb>data table notebook</a>'\n",
              "            + ' to learn more about interactive tables.';\n",
              "          element.innerHTML = '';\n",
              "          dataTable['output_type'] = 'display_data';\n",
              "          await google.colab.output.renderOutput(dataTable, element);\n",
              "          const docLink = document.createElement('div');\n",
              "          docLink.innerHTML = docLinkHtml;\n",
              "          element.appendChild(docLink);\n",
              "        }\n",
              "      </script>\n",
              "    </div>\n",
              "  </div>\n",
              "  "
            ]
          },
          "metadata": {},
          "execution_count": 66
        }
      ]
    },
    {
      "cell_type": "code",
      "source": [
        "all.to_csv('objective4.csv')"
      ],
      "metadata": {
        "id": "e9EBGbp_XiPb"
      },
      "execution_count": null,
      "outputs": []
    },
    {
      "cell_type": "code",
      "source": [
        "from wordcloud import WordCloud,STOPWORDS\n",
        "plt.figure(figsize = (10,10))\n",
        "word_cloud= WordCloud(width = 800 , height = 800).generate(\" \".join(all[all.overall_polarity == 'Positive'].Entity))\n",
        "plt.imshow(word_cloud , interpolation = 'bilinear')"
      ],
      "metadata": {
        "colab": {
          "base_uri": "https://localhost:8080/",
          "height": 612
        },
        "id": "yFI2s2i5ZMiz",
        "outputId": "3df566ef-247c-42c3-c2dd-7f169ade7ec9"
      },
      "execution_count": null,
      "outputs": [
        {
          "output_type": "execute_result",
          "data": {
            "text/plain": [
              "<matplotlib.image.AxesImage at 0x7fcbf089b750>"
            ]
          },
          "metadata": {},
          "execution_count": 71
        },
        {
          "output_type": "display_data",
          "data": {
            "text/plain": [
              "<Figure size 720x720 with 1 Axes>"
            ],
            "image/png": "[encoded data removed]"
          },
          "metadata": {
            "needs_background": "light"
          }
        }
      ]
    }
  ]
}